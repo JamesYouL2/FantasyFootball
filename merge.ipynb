{
 "cells": [
  {
   "cell_type": "code",
   "execution_count": 8,
   "metadata": {},
   "outputs": [
    {
     "name": "stderr",
     "output_type": "stream",
     "text": [
      "[2022-12-07 10:26:59,334 DEBUG] [yahoo_oauth.oauth.__init__] Checking \n",
      "[2022-12-07 10:26:59,335 DEBUG] [yahoo_oauth.oauth.token_is_valid] ELAPSED TIME : 5462.614501953125\n",
      "[2022-12-07 10:26:59,335 DEBUG] [yahoo_oauth.oauth.token_is_valid] TOKEN HAS EXPIRED\n",
      "[2022-12-07 10:26:59,335 DEBUG] [yahoo_oauth.oauth.refresh_access_token] REFRESHING TOKEN\n",
      "[2022-12-07 10:26:59,537 DEBUG] [yahoo_oauth.oauth.token_is_valid] ELAPSED TIME : 0.2013258934020996\n",
      "[2022-12-07 10:26:59,538 DEBUG] [yahoo_oauth.oauth.token_is_valid] TOKEN IS STILL VALID\n",
      "[2022-12-07 10:26:59,538 DEBUG] [yahoo_oauth.oauth.__init__] Checking \n",
      "[2022-12-07 10:26:59,539 DEBUG] [yahoo_oauth.oauth.token_is_valid] ELAPSED TIME : 0.20273709297180176\n",
      "[2022-12-07 10:26:59,539 DEBUG] [yahoo_oauth.oauth.token_is_valid] TOKEN IS STILL VALID\n",
      "[2022-12-07 10:26:59,540 DEBUG] [yahoo_oauth.oauth.token_is_valid] ELAPSED TIME : 0.20375490188598633\n",
      "[2022-12-07 10:26:59,540 DEBUG] [yahoo_oauth.oauth.token_is_valid] TOKEN IS STILL VALID\n",
      "[2022-12-07 10:27:04,333 DEBUG] [yahoo_oauth.oauth.__init__] Checking \n",
      "[2022-12-07 10:27:04,335 DEBUG] [yahoo_oauth.oauth.token_is_valid] ELAPSED TIME : 4.998986005783081\n",
      "[2022-12-07 10:27:04,335 DEBUG] [yahoo_oauth.oauth.token_is_valid] TOKEN IS STILL VALID\n",
      "[2022-12-07 10:27:04,340 DEBUG] [yahoo_oauth.oauth.token_is_valid] ELAPSED TIME : 5.0037620067596436\n",
      "[2022-12-07 10:27:04,340 DEBUG] [yahoo_oauth.oauth.token_is_valid] TOKEN IS STILL VALID\n",
      "[2022-12-07 10:27:04,342 DEBUG] [yahoo_oauth.oauth.__init__] Checking \n",
      "[2022-12-07 10:27:04,342 DEBUG] [yahoo_oauth.oauth.token_is_valid] ELAPSED TIME : 5.00644588470459\n",
      "[2022-12-07 10:27:04,343 DEBUG] [yahoo_oauth.oauth.token_is_valid] TOKEN IS STILL VALID\n",
      "[2022-12-07 10:27:04,345 DEBUG] [yahoo_oauth.oauth.token_is_valid] ELAPSED TIME : 5.009082078933716\n",
      "[2022-12-07 10:27:04,346 DEBUG] [yahoo_oauth.oauth.token_is_valid] TOKEN IS STILL VALID\n"
     ]
    }
   ],
   "source": [
    "import pandas as pd\n",
    "from roster import Roster\n",
    "from tradevalue import TradeValue\n",
    "\n",
    "#change leagueid here\n",
    "leagueid=0\n",
    "team1 = Roster(leagueid=leagueid)\n",
    "TradeValue_Class = TradeValue(\"https://www.thescore.com/news/2414990\")"
   ]
  },
  {
   "cell_type": "code",
   "execution_count": 3,
   "metadata": {},
   "outputs": [
    {
     "data": {
      "text/html": [
       "<div>\n",
       "<style scoped>\n",
       "    .dataframe tbody tr th:only-of-type {\n",
       "        vertical-align: middle;\n",
       "    }\n",
       "\n",
       "    .dataframe tbody tr th {\n",
       "        vertical-align: top;\n",
       "    }\n",
       "\n",
       "    .dataframe thead th {\n",
       "        text-align: right;\n",
       "    }\n",
       "</style>\n",
       "<table border=\"1\" class=\"dataframe\">\n",
       "  <thead>\n",
       "    <tr style=\"text-align: right;\">\n",
       "      <th></th>\n",
       "      <th>player_name</th>\n",
       "      <th>team_name</th>\n",
       "      <th>percent_owned</th>\n",
       "    </tr>\n",
       "  </thead>\n",
       "  <tbody>\n",
       "    <tr>\n",
       "      <th>0</th>\n",
       "      <td>Zach Ertz</td>\n",
       "      <td>The Full Nitschke</td>\n",
       "      <td>28</td>\n",
       "    </tr>\n",
       "    <tr>\n",
       "      <th>1</th>\n",
       "      <td>Cooper Kupp</td>\n",
       "      <td>The Full Nitschke</td>\n",
       "      <td>86</td>\n",
       "    </tr>\n",
       "    <tr>\n",
       "      <th>2</th>\n",
       "      <td>Mack Hollins</td>\n",
       "      <td>The Full Nitschke</td>\n",
       "      <td>29</td>\n",
       "    </tr>\n",
       "    <tr>\n",
       "      <th>3</th>\n",
       "      <td>Aaron Jones</td>\n",
       "      <td>The Full Nitschke</td>\n",
       "      <td>100</td>\n",
       "    </tr>\n",
       "    <tr>\n",
       "      <th>4</th>\n",
       "      <td>Lamar Jackson</td>\n",
       "      <td>The Full Nitschke</td>\n",
       "      <td>98</td>\n",
       "    </tr>\n",
       "    <tr>\n",
       "      <th>...</th>\n",
       "      <td>...</td>\n",
       "      <td>...</td>\n",
       "      <td>...</td>\n",
       "    </tr>\n",
       "    <tr>\n",
       "      <th>150</th>\n",
       "      <td>Jeff Wilson Jr.</td>\n",
       "      <td>Whodatnation</td>\n",
       "      <td>87</td>\n",
       "    </tr>\n",
       "    <tr>\n",
       "      <th>151</th>\n",
       "      <td>T.J. Hockenson</td>\n",
       "      <td>Whodatnation</td>\n",
       "      <td>98</td>\n",
       "    </tr>\n",
       "    <tr>\n",
       "      <th>152</th>\n",
       "      <td>Marquise Brown</td>\n",
       "      <td>Whodatnation</td>\n",
       "      <td>84</td>\n",
       "    </tr>\n",
       "    <tr>\n",
       "      <th>153</th>\n",
       "      <td>Diontae Johnson</td>\n",
       "      <td>Whodatnation</td>\n",
       "      <td>81</td>\n",
       "    </tr>\n",
       "    <tr>\n",
       "      <th>154</th>\n",
       "      <td>Las Vegas</td>\n",
       "      <td>Whodatnation</td>\n",
       "      <td>33</td>\n",
       "    </tr>\n",
       "  </tbody>\n",
       "</table>\n",
       "<p>155 rows × 3 columns</p>\n",
       "</div>"
      ],
      "text/plain": [
       "         player_name          team_name  percent_owned\n",
       "0          Zach Ertz  The Full Nitschke             28\n",
       "1        Cooper Kupp  The Full Nitschke             86\n",
       "2       Mack Hollins  The Full Nitschke             29\n",
       "3        Aaron Jones  The Full Nitschke            100\n",
       "4      Lamar Jackson  The Full Nitschke             98\n",
       "..               ...                ...            ...\n",
       "150  Jeff Wilson Jr.       Whodatnation             87\n",
       "151   T.J. Hockenson       Whodatnation             98\n",
       "152   Marquise Brown       Whodatnation             84\n",
       "153  Diontae Johnson       Whodatnation             81\n",
       "154        Las Vegas       Whodatnation             33\n",
       "\n",
       "[155 rows x 3 columns]"
      ]
     },
     "execution_count": 3,
     "metadata": {},
     "output_type": "execute_result"
    }
   ],
   "source": [
    "JJets.roster_df"
   ]
  },
  {
   "cell_type": "code",
   "execution_count": 4,
   "metadata": {},
   "outputs": [],
   "source": [
    "def col_replace(df, column_name):\n",
    "    df[column_name] = df[column_name].str.replace('.', '', regex=False)\n",
    "    df[column_name] = df[column_name].str.replace('Kenneth', 'Ken', regex=False)\n",
    "    df[column_name] = df[column_name].str.rstrip(' III')\n",
    "    df[column_name] = df[column_name].str.rstrip(' II')\n",
    "    return df\n"
   ]
  },
  {
   "cell_type": "code",
   "execution_count": 5,
   "metadata": {},
   "outputs": [],
   "source": [
    "TradeValue_df = col_replace(TradeValue_Class.all_dfs, 'Player')\n",
    "team1_df = col_replace(team1.roster_df, 'player_name')"
   ]
  },
  {
   "cell_type": "code",
   "execution_count": 6,
   "metadata": {},
   "outputs": [],
   "source": [
    "all_df = pd.merge(TradeValue_df,team1_df,left_on='Player',right_on='player_name',how='left')"
   ]
  },
  {
   "cell_type": "code",
   "execution_count": 7,
   "metadata": {},
   "outputs": [],
   "source": [
    "all_df.sort_values('Value', ascending=False).to_csv('test.tab', sep='\\t')"
   ]
  },
  {
   "cell_type": "code",
   "execution_count": null,
   "metadata": {},
   "outputs": [],
   "source": []
  }
 ],
 "metadata": {
  "kernelspec": {
   "display_name": "Python 3.10.4 ('FantasyBaseball')",
   "language": "python",
   "name": "python3"
  },
  "language_info": {
   "codemirror_mode": {
    "name": "ipython",
    "version": 3
   },
   "file_extension": ".py",
   "mimetype": "text/x-python",
   "name": "python",
   "nbconvert_exporter": "python",
   "pygments_lexer": "ipython3",
   "version": "3.10.4 | packaged by conda-forge | (main, Mar 24 2022, 17:39:37) [Clang 12.0.1 ]"
  },
  "orig_nbformat": 4,
  "vscode": {
   "interpreter": {
    "hash": "44d2cb3e52c89278f4882f8b94fbbed590ec07dd05d7e6230b2d0487e4286265"
   }
  }
 },
 "nbformat": 4,
 "nbformat_minor": 2
}
