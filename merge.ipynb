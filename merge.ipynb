{
 "cells": [
  {
   "cell_type": "code",
   "execution_count": 18,
   "metadata": {},
   "outputs": [
    {
     "name": "stderr",
     "output_type": "stream",
     "text": [
      "[2023-09-13 16:04:34,886 DEBUG] [yahoo_oauth.oauth.__init__] Checking \n",
      "[2023-09-13 16:04:34,887 DEBUG] [yahoo_oauth.oauth.token_is_valid] ELAPSED TIME : 15238.650703907013\n",
      "[2023-09-13 16:04:34,887 DEBUG] [yahoo_oauth.oauth.token_is_valid] TOKEN HAS EXPIRED\n",
      "[2023-09-13 16:04:34,888 DEBUG] [yahoo_oauth.oauth.refresh_access_token] REFRESHING TOKEN\n",
      "[2023-09-13 16:04:35,109 DEBUG] [yahoo_oauth.oauth.token_is_valid] ELAPSED TIME : 0.22022509574890137\n",
      "[2023-09-13 16:04:35,109 DEBUG] [yahoo_oauth.oauth.token_is_valid] TOKEN IS STILL VALID\n",
      "[2023-09-13 16:04:35,111 DEBUG] [yahoo_oauth.oauth.__init__] Checking \n",
      "[2023-09-13 16:04:35,112 DEBUG] [yahoo_oauth.oauth.token_is_valid] ELAPSED TIME : 0.22305989265441895\n",
      "[2023-09-13 16:04:35,112 DEBUG] [yahoo_oauth.oauth.token_is_valid] TOKEN IS STILL VALID\n",
      "[2023-09-13 16:04:35,113 DEBUG] [yahoo_oauth.oauth.token_is_valid] ELAPSED TIME : 0.22407889366149902\n",
      "[2023-09-13 16:04:35,113 DEBUG] [yahoo_oauth.oauth.token_is_valid] TOKEN IS STILL VALID\n"
     ]
    }
   ],
   "source": [
    "import pandas as pd\n",
    "from roster import Roster\n",
    "from tradevalue import TradeValue\n",
    "\n",
    "#change leagueid here\n",
    "#leagueid=57021\n",
    "team1 = Roster(leagueid=57022)\n",
    "TradeValue_Class = TradeValue(\"https://www.thescore.com/nflfan/news/2712935/fantasy-trade-value-chart-week-2\")"
   ]
  },
  {
   "cell_type": "code",
   "execution_count": null,
   "metadata": {},
   "outputs": [],
   "source": [
    "def col_replace(df, column_name):\n",
    "    df[column_name] = df[column_name].str.replace('.', '', regex=False)\n",
    "    df[column_name] = df[column_name].str.replace('Kenneth', 'Ken', regex=False)\n",
    "    df[column_name] = df[column_name].str.replace(' Jr', '', regex=False)\n",
    "    df[column_name] = df[column_name].str.rstrip(' III')\n",
    "    df[column_name] = df[column_name].str.rstrip(' II')\n",
    "    return df\n"
   ]
  },
  {
   "cell_type": "code",
   "execution_count": null,
   "metadata": {},
   "outputs": [],
   "source": [
    "TradeValue_df = col_replace(TradeValue_Class.all_dfs, 'Player')\n",
    "team1_df = col_replace(team1.roster_df, 'player_name')\n"
   ]
  },
  {
   "cell_type": "code",
   "execution_count": null,
   "metadata": {},
   "outputs": [],
   "source": [
    "all_df = pd.merge(TradeValue_df,team1_df,left_on='Player',right_on='player_name',how='left')"
   ]
  },
  {
   "cell_type": "code",
   "execution_count": null,
   "metadata": {},
   "outputs": [],
   "source": [
    "all_df.sort_values('Value', ascending=False).to_csv(f'{leagueid}.tab', sep='\\t')"
   ]
  },
  {
   "cell_type": "code",
   "execution_count": null,
   "metadata": {},
   "outputs": [],
   "source": []
  }
 ],
 "metadata": {
  "kernelspec": {
   "display_name": "Python 3.10.4 ('FantasyBaseball')",
   "language": "python",
   "name": "python3"
  },
  "language_info": {
   "codemirror_mode": {
    "name": "ipython",
    "version": 3
   },
   "file_extension": ".py",
   "mimetype": "text/x-python",
   "name": "python",
   "nbconvert_exporter": "python",
   "pygments_lexer": "ipython3",
   "version": "3.11.4"
  },
  "orig_nbformat": 4,
  "vscode": {
   "interpreter": {
    "hash": "44d2cb3e52c89278f4882f8b94fbbed590ec07dd05d7e6230b2d0487e4286265"
   }
  }
 },
 "nbformat": 4,
 "nbformat_minor": 2
}
