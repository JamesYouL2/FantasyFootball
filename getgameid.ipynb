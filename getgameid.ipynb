{
    "cells": [
        {
            "cell_type": "code",
            "execution_count": 3,
            "metadata": {},
            "outputs": [],
            "source": [
                "from yahoologin import yahoologin\n",
                "import csv\n",
                "\n",
                "def getgameid(game='mlb'):\n",
                "    oauth = yahoologin()\n",
                "    url = 'https://fantasysports.yahooapis.com/fantasy/v2/game/' + game\n",
                "    response = oauth.session.get(url, params={'format': 'json'})\n",
                "    data = response.json()\n",
                "    return data['fantasy_content']['game'][0]['game_id']\n",
                "\n",
                "def updateroster(leagueid,numteams):\n",
                "    oauth = yahoologin()\n",
                "    gameid = getgameid('nba')\n",
                "    with open('./teams/roster.txt', 'w', newline = '') as outfile:        \n",
                "        csvwriter = csv.writer(outfile, delimiter='\\t')\n",
                "        outfile.truncate()\n",
                "        csvwriter.writerow(['playerid','team','percent_owned'])\n",
                "        for team in range(1, numteams+1): #assumes 10-team league\n",
                "            url = 'https://fantasysports.yahooapis.com/fantasy/v2/team/'+str(gameid)+'.l.'+str(leagueid)+'.t.'+str(team)+'/players/percent_owned'\n",
                "            response = oauth.session.get(url, params={'format': 'json'})\n",
                "            data = response.json()\n",
                "            playercount = 0\n",
                "            for item in (data[\"fantasy_content\"][\"team\"][1][\"players\"]):\n",
                "                if 'count' not in item:\n",
                "                    try:\n",
                "                        percentowned = data[\"fantasy_content\"][\"team\"][1][\"players\"][str(playercount)][\"player\"][1]['percent_owned'][1]['value']\n",
                "                    except:\n",
                "                        print(str(playercount),numteams)\n",
                "                    finally:\n",
                "                        csvwriter.writerow([data[\"fantasy_content\"][\"team\"][1][\"players\"][str(playercount)][\"player\"][0][1][\"player_id\"],data[\"fantasy_content\"][\"team\"][0][2][\"name\"],percentowned])\n",
                "                        playercount = playercount + 1"
            ]
        },
        {
            "cell_type": "code",
            "execution_count": 42,
            "metadata": {},
            "outputs": [
                {
                    "name": "stderr",
                    "output_type": "stream",
                    "text": [
                        "[2021-09-20 14:51:04,105 DEBUG] [yahoo_oauth.oauth.__init__] Checking \n",
                        "[2021-09-20 14:51:04,107 DEBUG] [yahoo_oauth.oauth.token_is_valid] ELAPSED TIME : 609.4070119857788\n",
                        "[2021-09-20 14:51:04,107 DEBUG] [yahoo_oauth.oauth.token_is_valid] TOKEN IS STILL VALID\n",
                        "[2021-09-20 14:51:04,111 DEBUG] [yahoo_oauth.oauth.token_is_valid] ELAPSED TIME : 609.4111342430115\n",
                        "[2021-09-20 14:51:04,112 DEBUG] [yahoo_oauth.oauth.token_is_valid] TOKEN IS STILL VALID\n",
                        "[2021-09-20 14:51:04,117 DEBUG] [yahoo_oauth.oauth.__init__] Checking \n",
                        "[2021-09-20 14:51:04,118 DEBUG] [yahoo_oauth.oauth.token_is_valid] ELAPSED TIME : 609.4185838699341\n",
                        "[2021-09-20 14:51:04,120 DEBUG] [yahoo_oauth.oauth.token_is_valid] TOKEN IS STILL VALID\n",
                        "[2021-09-20 14:51:04,122 DEBUG] [yahoo_oauth.oauth.token_is_valid] ELAPSED TIME : 609.4225828647614\n",
                        "[2021-09-20 14:51:04,124 DEBUG] [yahoo_oauth.oauth.token_is_valid] TOKEN IS STILL VALID\n"
                    ]
                }
            ],
            "source": [
                "oauth = yahoologin()\n",
                "gameid = getgameid('nba')\n",
                "numteams = 10\n",
                "leagueid = 9118\n",
                "with open('./teams/roster.txt', 'w', newline = '') as outfile:        \n",
                "    csvwriter = csv.writer(outfile, delimiter='\\t')\n",
                "    outfile.truncate()\n",
                "    csvwriter.writerow(['playerid','player_name','team','percent_owned'])\n",
                "    for team in range(1, numteams+1): #assumes 10-team league\n",
                "        url = 'https://fantasysports.yahooapis.com/fantasy/v2/team/'+str(gameid)+'.l.'+str(leagueid)+'.t.'+str(team)+'/players/percent_owned'\n",
                "        response = oauth.session.get(url, params={'format': 'json'})\n",
                "        data = response.json()\n",
                "        playercount = 0\n",
                "        for item in (data[\"fantasy_content\"][\"team\"][1][\"players\"]):\n",
                "            if 'count' not in item:\n",
                "                try:\n",
                "                    percentowned = data[\"fantasy_content\"][\"team\"][1][\"players\"][str(playercount)][\"player\"][1]['percent_owned'][1]['value']\n",
                "                except:\n",
                "                    print(str(playercount),numteams)\n",
                "                finally:\n",
                "                    csvwriter.writerow([data[\"fantasy_content\"][\"team\"][1][\"players\"][str(playercount)][\"player\"][0][1][\"player_id\"],data[\"fantasy_content\"][\"team\"][1][\"players\"][str(playercount)][\"player\"][0][2][\"name\"][\"full\"],data[\"fantasy_content\"][\"team\"][0][2][\"name\"],percentowned])\n",
                "                    playercount = playercount + 1"
            ]
        },
        {
            "cell_type": "code",
            "execution_count": 4,
            "metadata": {},
            "outputs": [
                {
                    "name": "stderr",
                    "output_type": "stream",
                    "text": [
                        "[2021-11-30 14:00:49,000 DEBUG] [yahoo_oauth.oauth.__init__] Checking \n",
                        "[2021-11-30 14:00:49,005 DEBUG] [yahoo_oauth.oauth.token_is_valid] ELAPSED TIME : 404.18219900131226\n",
                        "[2021-11-30 14:00:49,006 DEBUG] [yahoo_oauth.oauth.token_is_valid] TOKEN IS STILL VALID\n",
                        "[2021-11-30 14:00:49,010 DEBUG] [yahoo_oauth.oauth.token_is_valid] ELAPSED TIME : 404.18720054626465\n",
                        "[2021-11-30 14:00:49,011 DEBUG] [yahoo_oauth.oauth.token_is_valid] TOKEN IS STILL VALID\n"
                    ]
                },
                {
                    "data": {
                        "text/plain": [
                            "'410'"
                        ]
                    },
                    "execution_count": 4,
                    "metadata": {},
                    "output_type": "execute_result"
                }
            ],
            "source": [
                "getgameid('nba')"
            ]
        },
        {
            "cell_type": "code",
            "execution_count": 5,
            "metadata": {},
            "outputs": [
                {
                    "name": "stderr",
                    "output_type": "stream",
                    "text": [
                        "[2021-11-30 14:01:13,478 DEBUG] [yahoo_oauth.oauth.__init__] Checking \n",
                        "[2021-11-30 14:01:13,479 DEBUG] [yahoo_oauth.oauth.token_is_valid] ELAPSED TIME : 428.65663599967957\n",
                        "[2021-11-30 14:01:13,480 DEBUG] [yahoo_oauth.oauth.token_is_valid] TOKEN IS STILL VALID\n",
                        "[2021-11-30 14:01:13,482 DEBUG] [yahoo_oauth.oauth.token_is_valid] ELAPSED TIME : 428.6595923900604\n",
                        "[2021-11-30 14:01:13,483 DEBUG] [yahoo_oauth.oauth.token_is_valid] TOKEN IS STILL VALID\n",
                        "[2021-11-30 14:01:13,486 DEBUG] [yahoo_oauth.oauth.__init__] Checking \n",
                        "[2021-11-30 14:01:13,487 DEBUG] [yahoo_oauth.oauth.token_is_valid] ELAPSED TIME : 428.6641643047333\n",
                        "[2021-11-30 14:01:13,488 DEBUG] [yahoo_oauth.oauth.token_is_valid] TOKEN IS STILL VALID\n",
                        "[2021-11-30 14:01:13,489 DEBUG] [yahoo_oauth.oauth.token_is_valid] ELAPSED TIME : 428.6661591529846\n",
                        "[2021-11-30 14:01:13,490 DEBUG] [yahoo_oauth.oauth.token_is_valid] TOKEN IS STILL VALID\n"
                    ]
                }
            ],
            "source": [
                "oauth = yahoologin()\n",
                "gameid = getgameid('nfl')\n",
                "url = 'https://fantasysports.yahooapis.com/fantasy/v2/team/'+str(410)+'.l.'+str(44118)+'.t.'+str(1)+'/players/percent_owned'\n",
                "response = oauth.session.get(url, params={'format': 'json'})\n",
                "data = response.json()"
            ]
        },
        {
            "cell_type": "code",
            "execution_count": 9,
            "metadata": {},
            "outputs": [
                {
                    "name": "stdout",
                    "output_type": "stream",
                    "text": [
                        "LeBron James\n",
                        "Ballers of Syrinx\n",
                        "3704\n"
                    ]
                }
            ],
            "source": [
                "print(data[\"fantasy_content\"][\"team\"][1][\"players\"][str(0)][\"player\"][0][2][\"name\"][\"full\"])\n",
                "print(data[\"fantasy_content\"][\"team\"][0][2][\"name\"])\n",
                "print(data[\"fantasy_content\"][\"team\"][1][\"players\"][str(0)][\"player\"][0][1][\"player_id\"])"
            ]
        },
        {
            "cell_type": "code",
            "execution_count": 16,
            "metadata": {},
            "outputs": [
                {
                    "name": "stderr",
                    "output_type": "stream",
                    "text": [
                        "[2021-11-30 14:03:33,217 DEBUG] [yahoo_oauth.oauth.__init__] Checking \n",
                        "[2021-11-30 14:03:33,218 DEBUG] [yahoo_oauth.oauth.token_is_valid] ELAPSED TIME : 568.395674943924\n",
                        "[2021-11-30 14:03:33,219 DEBUG] [yahoo_oauth.oauth.token_is_valid] TOKEN IS STILL VALID\n",
                        "[2021-11-30 14:03:33,222 DEBUG] [yahoo_oauth.oauth.token_is_valid] ELAPSED TIME : 568.3988649845123\n",
                        "[2021-11-30 14:03:33,223 DEBUG] [yahoo_oauth.oauth.token_is_valid] TOKEN IS STILL VALID\n",
                        "[2021-11-30 14:03:33,227 DEBUG] [yahoo_oauth.oauth.__init__] Checking \n",
                        "[2021-11-30 14:03:33,229 DEBUG] [yahoo_oauth.oauth.token_is_valid] ELAPSED TIME : 568.4058499336243\n",
                        "[2021-11-30 14:03:33,230 DEBUG] [yahoo_oauth.oauth.token_is_valid] TOKEN IS STILL VALID\n",
                        "[2021-11-30 14:03:33,231 DEBUG] [yahoo_oauth.oauth.token_is_valid] ELAPSED TIME : 568.4078478813171\n",
                        "[2021-11-30 14:03:33,232 DEBUG] [yahoo_oauth.oauth.token_is_valid] TOKEN IS STILL VALID\n"
                    ]
                },
                {
                    "name": "stdout",
                    "output_type": "stream",
                    "text": [
                        "16 7\n"
                    ]
                },
                {
                    "ename": "UnicodeEncodeError",
                    "evalue": "'charmap' codec can't encode character '\\U0001f3c8' in position 10: character maps to <undefined>",
                    "output_type": "error",
                    "traceback": [
                        "\u001b[1;31m---------------------------------------------------------------------------\u001b[0m",
                        "\u001b[1;31mUnicodeEncodeError\u001b[0m                        Traceback (most recent call last)",
                        "\u001b[1;32m<ipython-input-16-ee098425111b>\u001b[0m in \u001b[0;36m<module>\u001b[1;34m\u001b[0m\n\u001b[1;32m----> 1\u001b[1;33m \u001b[0mupdateroster\u001b[0m\u001b[1;33m(\u001b[0m\u001b[0mleagueid\u001b[0m\u001b[1;33m=\u001b[0m\u001b[1;36m44118\u001b[0m\u001b[1;33m,\u001b[0m\u001b[0mnumteams\u001b[0m\u001b[1;33m=\u001b[0m\u001b[1;36m7\u001b[0m\u001b[1;33m)\u001b[0m\u001b[1;33m\u001b[0m\u001b[0m\n\u001b[0m",
                        "\u001b[1;32m<ipython-input-3-fd3a8a401e31>\u001b[0m in \u001b[0;36mupdateroster\u001b[1;34m(leagueid, numteams)\u001b[0m\n\u001b[0;32m     28\u001b[0m                         \u001b[0mprint\u001b[0m\u001b[1;33m(\u001b[0m\u001b[0mstr\u001b[0m\u001b[1;33m(\u001b[0m\u001b[0mplayercount\u001b[0m\u001b[1;33m)\u001b[0m\u001b[1;33m,\u001b[0m\u001b[0mnumteams\u001b[0m\u001b[1;33m)\u001b[0m\u001b[1;33m\u001b[0m\u001b[0m\n\u001b[0;32m     29\u001b[0m                     \u001b[1;32mfinally\u001b[0m\u001b[1;33m:\u001b[0m\u001b[1;33m\u001b[0m\u001b[0m\n\u001b[1;32m---> 30\u001b[1;33m                         \u001b[0mcsvwriter\u001b[0m\u001b[1;33m.\u001b[0m\u001b[0mwriterow\u001b[0m\u001b[1;33m(\u001b[0m\u001b[1;33m[\u001b[0m\u001b[0mdata\u001b[0m\u001b[1;33m[\u001b[0m\u001b[1;34m\"fantasy_content\"\u001b[0m\u001b[1;33m]\u001b[0m\u001b[1;33m[\u001b[0m\u001b[1;34m\"team\"\u001b[0m\u001b[1;33m]\u001b[0m\u001b[1;33m[\u001b[0m\u001b[1;36m1\u001b[0m\u001b[1;33m]\u001b[0m\u001b[1;33m[\u001b[0m\u001b[1;34m\"players\"\u001b[0m\u001b[1;33m]\u001b[0m\u001b[1;33m[\u001b[0m\u001b[0mstr\u001b[0m\u001b[1;33m(\u001b[0m\u001b[0mplayercount\u001b[0m\u001b[1;33m)\u001b[0m\u001b[1;33m]\u001b[0m\u001b[1;33m[\u001b[0m\u001b[1;34m\"player\"\u001b[0m\u001b[1;33m]\u001b[0m\u001b[1;33m[\u001b[0m\u001b[1;36m0\u001b[0m\u001b[1;33m]\u001b[0m\u001b[1;33m[\u001b[0m\u001b[1;36m1\u001b[0m\u001b[1;33m]\u001b[0m\u001b[1;33m[\u001b[0m\u001b[1;34m\"player_id\"\u001b[0m\u001b[1;33m]\u001b[0m\u001b[1;33m,\u001b[0m\u001b[0mdata\u001b[0m\u001b[1;33m[\u001b[0m\u001b[1;34m\"fantasy_content\"\u001b[0m\u001b[1;33m]\u001b[0m\u001b[1;33m[\u001b[0m\u001b[1;34m\"team\"\u001b[0m\u001b[1;33m]\u001b[0m\u001b[1;33m[\u001b[0m\u001b[1;36m0\u001b[0m\u001b[1;33m]\u001b[0m\u001b[1;33m[\u001b[0m\u001b[1;36m2\u001b[0m\u001b[1;33m]\u001b[0m\u001b[1;33m[\u001b[0m\u001b[1;34m\"name\"\u001b[0m\u001b[1;33m]\u001b[0m\u001b[1;33m,\u001b[0m\u001b[0mpercentowned\u001b[0m\u001b[1;33m]\u001b[0m\u001b[1;33m)\u001b[0m\u001b[1;33m\u001b[0m\u001b[0m\n\u001b[0m\u001b[0;32m     31\u001b[0m                         \u001b[0mplayercount\u001b[0m \u001b[1;33m=\u001b[0m \u001b[0mplayercount\u001b[0m \u001b[1;33m+\u001b[0m \u001b[1;36m1\u001b[0m\u001b[1;33m\u001b[0m\u001b[0m\n",
                        "\u001b[1;32mC:\\Python36\\lib\\encodings\\cp1252.py\u001b[0m in \u001b[0;36mencode\u001b[1;34m(self, input, final)\u001b[0m\n\u001b[0;32m     17\u001b[0m \u001b[1;32mclass\u001b[0m \u001b[0mIncrementalEncoder\u001b[0m\u001b[1;33m(\u001b[0m\u001b[0mcodecs\u001b[0m\u001b[1;33m.\u001b[0m\u001b[0mIncrementalEncoder\u001b[0m\u001b[1;33m)\u001b[0m\u001b[1;33m:\u001b[0m\u001b[1;33m\u001b[0m\u001b[0m\n\u001b[0;32m     18\u001b[0m     \u001b[1;32mdef\u001b[0m \u001b[0mencode\u001b[0m\u001b[1;33m(\u001b[0m\u001b[0mself\u001b[0m\u001b[1;33m,\u001b[0m \u001b[0minput\u001b[0m\u001b[1;33m,\u001b[0m \u001b[0mfinal\u001b[0m\u001b[1;33m=\u001b[0m\u001b[1;32mFalse\u001b[0m\u001b[1;33m)\u001b[0m\u001b[1;33m:\u001b[0m\u001b[1;33m\u001b[0m\u001b[0m\n\u001b[1;32m---> 19\u001b[1;33m         \u001b[1;32mreturn\u001b[0m \u001b[0mcodecs\u001b[0m\u001b[1;33m.\u001b[0m\u001b[0mcharmap_encode\u001b[0m\u001b[1;33m(\u001b[0m\u001b[0minput\u001b[0m\u001b[1;33m,\u001b[0m\u001b[0mself\u001b[0m\u001b[1;33m.\u001b[0m\u001b[0merrors\u001b[0m\u001b[1;33m,\u001b[0m\u001b[0mencoding_table\u001b[0m\u001b[1;33m)\u001b[0m\u001b[1;33m[\u001b[0m\u001b[1;36m0\u001b[0m\u001b[1;33m]\u001b[0m\u001b[1;33m\u001b[0m\u001b[0m\n\u001b[0m\u001b[0;32m     20\u001b[0m \u001b[1;33m\u001b[0m\u001b[0m\n\u001b[0;32m     21\u001b[0m \u001b[1;32mclass\u001b[0m \u001b[0mIncrementalDecoder\u001b[0m\u001b[1;33m(\u001b[0m\u001b[0mcodecs\u001b[0m\u001b[1;33m.\u001b[0m\u001b[0mIncrementalDecoder\u001b[0m\u001b[1;33m)\u001b[0m\u001b[1;33m:\u001b[0m\u001b[1;33m\u001b[0m\u001b[0m\n",
                        "\u001b[1;31mUnicodeEncodeError\u001b[0m: 'charmap' codec can't encode character '\\U0001f3c8' in position 10: character maps to <undefined>"
                    ]
                }
            ],
            "source": [
                "updateroster(leagueid=44118,numteams=7)"
            ]
        }
    ],
    "metadata": {
        "interpreter": {
            "hash": "e7c37ba80a6e54a3d63188245ab5de6a3e0d381993bcb1990a7020536fc2299e"
        },
        "kernelspec": {
            "display_name": "Python 3.6.3 64-bit",
            "name": "python3"
        },
        "language_info": {
            "codemirror_mode": {
                "name": "ipython",
                "version": 3
            },
            "file_extension": ".py",
            "mimetype": "text/x-python",
            "name": "python",
            "nbconvert_exporter": "python",
            "pygments_lexer": "ipython3",
            "version": "3.6.3"
        },
        "orig_nbformat": 4
    },
    "nbformat": 4,
    "nbformat_minor": 2
}
